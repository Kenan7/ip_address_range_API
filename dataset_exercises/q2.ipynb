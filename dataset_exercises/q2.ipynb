{
 "metadata": {
  "language_info": {
   "codemirror_mode": {
    "name": "ipython",
    "version": 3
   },
   "file_extension": ".py",
   "mimetype": "text/x-python",
   "name": "python",
   "nbconvert_exporter": "python",
   "pygments_lexer": "ipython3",
   "version": "3.9.0-final"
  },
  "orig_nbformat": 2,
  "kernelspec": {
   "name": "Python 3.9.0 64-bit ('env')",
   "display_name": "Python 3.9.0 64-bit ('env')",
   "metadata": {
    "interpreter": {
     "hash": "dc20359b36ff51405fa3410854802ddea76ab0f10b0d31be8a00216d7923fb39"
    }
   }
  }
 },
 "nbformat": 4,
 "nbformat_minor": 2,
 "cells": [
  {
   "cell_type": "code",
   "execution_count": 1,
   "metadata": {},
   "outputs": [],
   "source": [
    "import pandas as pd"
   ]
  },
  {
   "cell_type": "code",
   "execution_count": 2,
   "metadata": {},
   "outputs": [],
   "source": [
    "df = pd.read_csv('Section_3.csv')"
   ]
  },
  {
   "cell_type": "code",
   "execution_count": 13,
   "metadata": {},
   "outputs": [],
   "source": [
    "per100 = df['Business_ID'].value_counts(normalize=True).mul(100).round(1).astype(str) + '%'"
   ]
  },
  {
   "cell_type": "code",
   "execution_count": 14,
   "metadata": {},
   "outputs": [],
   "source": [
    "per = df['Business_ID'].value_counts(normalize=True)"
   ]
  },
  {
   "cell_type": "code",
   "execution_count": 15,
   "metadata": {},
   "outputs": [],
   "source": [
    "c = df['Business_ID'].value_counts()"
   ]
  },
  {
   "cell_type": "code",
   "execution_count": 16,
   "metadata": {},
   "outputs": [
    {
     "output_type": "execute_result",
     "data": {
      "text/plain": [
       "                        counts       per per_100\n",
       "4bEjOyTaDG24SY5TxsaUNQ     856  0.003761    0.4%\n",
       "2e2e7WgqU1BnpxmQL5jbfw     744  0.003269    0.3%\n",
       "zt1TpTuJ6y9n551sw9TaEg     656  0.002882    0.3%\n",
       "Xhg93cMdemu5pAMkDoEdtQ     543  0.002386    0.2%\n",
       "YNQgak-ZLtYJQxlDwN-qIg     531  0.002333    0.2%\n",
       "...                        ...       ...     ...\n",
       "Ds5daIwC_cr_LcPhWx7f3g       1  0.000004    0.0%\n",
       "VF0tTQAgrWVNWXoDhUnWzw       1  0.000004    0.0%\n",
       "LTirKJ8bGI2_feR6oEnS6Q       1  0.000004    0.0%\n",
       "TZLgXAXfsC0IO94O-VgmnQ       1  0.000004    0.0%\n",
       "nRofvVC891VnsRJbacEsDw       1  0.000004    0.0%\n",
       "\n",
       "[30276 rows x 3 columns]"
      ],
      "text/html": "<div>\n<style scoped>\n    .dataframe tbody tr th:only-of-type {\n        vertical-align: middle;\n    }\n\n    .dataframe tbody tr th {\n        vertical-align: top;\n    }\n\n    .dataframe thead th {\n        text-align: right;\n    }\n</style>\n<table border=\"1\" class=\"dataframe\">\n  <thead>\n    <tr style=\"text-align: right;\">\n      <th></th>\n      <th>counts</th>\n      <th>per</th>\n      <th>per_100</th>\n    </tr>\n  </thead>\n  <tbody>\n    <tr>\n      <th>4bEjOyTaDG24SY5TxsaUNQ</th>\n      <td>856</td>\n      <td>0.003761</td>\n      <td>0.4%</td>\n    </tr>\n    <tr>\n      <th>2e2e7WgqU1BnpxmQL5jbfw</th>\n      <td>744</td>\n      <td>0.003269</td>\n      <td>0.3%</td>\n    </tr>\n    <tr>\n      <th>zt1TpTuJ6y9n551sw9TaEg</th>\n      <td>656</td>\n      <td>0.002882</td>\n      <td>0.3%</td>\n    </tr>\n    <tr>\n      <th>Xhg93cMdemu5pAMkDoEdtQ</th>\n      <td>543</td>\n      <td>0.002386</td>\n      <td>0.2%</td>\n    </tr>\n    <tr>\n      <th>YNQgak-ZLtYJQxlDwN-qIg</th>\n      <td>531</td>\n      <td>0.002333</td>\n      <td>0.2%</td>\n    </tr>\n    <tr>\n      <th>...</th>\n      <td>...</td>\n      <td>...</td>\n      <td>...</td>\n    </tr>\n    <tr>\n      <th>Ds5daIwC_cr_LcPhWx7f3g</th>\n      <td>1</td>\n      <td>0.000004</td>\n      <td>0.0%</td>\n    </tr>\n    <tr>\n      <th>VF0tTQAgrWVNWXoDhUnWzw</th>\n      <td>1</td>\n      <td>0.000004</td>\n      <td>0.0%</td>\n    </tr>\n    <tr>\n      <th>LTirKJ8bGI2_feR6oEnS6Q</th>\n      <td>1</td>\n      <td>0.000004</td>\n      <td>0.0%</td>\n    </tr>\n    <tr>\n      <th>TZLgXAXfsC0IO94O-VgmnQ</th>\n      <td>1</td>\n      <td>0.000004</td>\n      <td>0.0%</td>\n    </tr>\n    <tr>\n      <th>nRofvVC891VnsRJbacEsDw</th>\n      <td>1</td>\n      <td>0.000004</td>\n      <td>0.0%</td>\n    </tr>\n  </tbody>\n</table>\n<p>30276 rows × 3 columns</p>\n</div>"
     },
     "metadata": {},
     "execution_count": 16
    }
   ],
   "source": [
    "pd.DataFrame({'counts': c, 'per': per, 'per_100': per100})"
   ]
  },
  {
   "cell_type": "code",
   "execution_count": 27,
   "metadata": {},
   "outputs": [
    {
     "output_type": "execute_result",
     "data": {
      "text/plain": [
       "       Review_Date                                        Review_Text  \\\n",
       "291     2014-07-15  I've eaten here many times. Every time is deli...   \n",
       "708     2014-07-14  Disappointed in the service, ambiance, & food....   \n",
       "813     2014-07-14  My family and I came here while they were in f...   \n",
       "1121    2014-07-12  The ambiance a incredible in the front window ...   \n",
       "1641    2014-07-11  What a fantastic restaurant!!! I recently stay...   \n",
       "...            ...                                                ...   \n",
       "226000  2007-04-03  LUNCH - Mon Ami Gabi has pretty tasty food acc...   \n",
       "226757  2006-12-18  amazing french restaurant in the paris hotel. ...   \n",
       "226957  2006-10-01  Slightly noisy but great food in Vegas at a ve...   \n",
       "226988  2006-09-18  This is a great place for brunch -- we ended u...   \n",
       "227556  2005-06-23  Excellent food, great atmosphere, a bit noisy....   \n",
       "\n",
       "                       User_ID             Business_ID Business_Name  \\\n",
       "291     qzb1AwNqJbVly1Cm2ziY6A  4bEjOyTaDG24SY5TxsaUNQ  Mon Ami Gabi   \n",
       "708     CatKFlIPqxChN1Tu0LkYmw  4bEjOyTaDG24SY5TxsaUNQ  Mon Ami Gabi   \n",
       "813     XDxUN0fFwbJr4tTQgeLbKQ  4bEjOyTaDG24SY5TxsaUNQ  Mon Ami Gabi   \n",
       "1121    yrRvVqjJlPmTuQsZ7hNV8g  4bEjOyTaDG24SY5TxsaUNQ  Mon Ami Gabi   \n",
       "1641    4r6sGV31mtEpP87idj9EYA  4bEjOyTaDG24SY5TxsaUNQ  Mon Ami Gabi   \n",
       "...                        ...                     ...           ...   \n",
       "226000  QKznf6dT3owHD1LUDxXU7Q  4bEjOyTaDG24SY5TxsaUNQ  Mon Ami Gabi   \n",
       "226757  RlppHxlxAAuznZLk05STWw  4bEjOyTaDG24SY5TxsaUNQ  Mon Ami Gabi   \n",
       "226957  36CYHxqSj5iOzTiSFqw3yw  4bEjOyTaDG24SY5TxsaUNQ  Mon Ami Gabi   \n",
       "226988  ytcTacpqKG3ZeEzV0LfWkw  4bEjOyTaDG24SY5TxsaUNQ  Mon Ami Gabi   \n",
       "227556  LAOHN2Z6INbwuGa3fx9UTw  4bEjOyTaDG24SY5TxsaUNQ  Mon Ami Gabi   \n",
       "\n",
       "         Business_Category       City State   Latitude   Longitude  \\\n",
       "291     Breakfast & Brunch  Las Vegas    NV  36.112952 -115.172589   \n",
       "708     Breakfast & Brunch  Las Vegas    NV  36.112952 -115.172589   \n",
       "813     Breakfast & Brunch  Las Vegas    NV  36.112952 -115.172589   \n",
       "1121    Breakfast & Brunch  Las Vegas    NV  36.112952 -115.172589   \n",
       "1641    Breakfast & Brunch  Las Vegas    NV  36.112952 -115.172589   \n",
       "...                    ...        ...   ...        ...         ...   \n",
       "226000  Breakfast & Brunch  Las Vegas    NV  36.112952 -115.172589   \n",
       "226757  Breakfast & Brunch  Las Vegas    NV  36.112952 -115.172589   \n",
       "226957  Breakfast & Brunch  Las Vegas    NV  36.112952 -115.172589   \n",
       "226988  Breakfast & Brunch  Las Vegas    NV  36.112952 -115.172589   \n",
       "227556  Breakfast & Brunch  Las Vegas    NV  36.112952 -115.172589   \n",
       "\n",
       "        Avg_Business_Star_Rating  \n",
       "291                          4.0  \n",
       "708                          4.0  \n",
       "813                          4.0  \n",
       "1121                         4.0  \n",
       "1641                         4.0  \n",
       "...                          ...  \n",
       "226000                       4.0  \n",
       "226757                       4.0  \n",
       "226957                       4.0  \n",
       "226988                       4.0  \n",
       "227556                       4.0  \n",
       "\n",
       "[856 rows x 11 columns]"
      ],
      "text/html": "<div>\n<style scoped>\n    .dataframe tbody tr th:only-of-type {\n        vertical-align: middle;\n    }\n\n    .dataframe tbody tr th {\n        vertical-align: top;\n    }\n\n    .dataframe thead th {\n        text-align: right;\n    }\n</style>\n<table border=\"1\" class=\"dataframe\">\n  <thead>\n    <tr style=\"text-align: right;\">\n      <th></th>\n      <th>Review_Date</th>\n      <th>Review_Text</th>\n      <th>User_ID</th>\n      <th>Business_ID</th>\n      <th>Business_Name</th>\n      <th>Business_Category</th>\n      <th>City</th>\n      <th>State</th>\n      <th>Latitude</th>\n      <th>Longitude</th>\n      <th>Avg_Business_Star_Rating</th>\n    </tr>\n  </thead>\n  <tbody>\n    <tr>\n      <th>291</th>\n      <td>2014-07-15</td>\n      <td>I've eaten here many times. Every time is deli...</td>\n      <td>qzb1AwNqJbVly1Cm2ziY6A</td>\n      <td>4bEjOyTaDG24SY5TxsaUNQ</td>\n      <td>Mon Ami Gabi</td>\n      <td>Breakfast &amp; Brunch</td>\n      <td>Las Vegas</td>\n      <td>NV</td>\n      <td>36.112952</td>\n      <td>-115.172589</td>\n      <td>4.0</td>\n    </tr>\n    <tr>\n      <th>708</th>\n      <td>2014-07-14</td>\n      <td>Disappointed in the service, ambiance, &amp; food....</td>\n      <td>CatKFlIPqxChN1Tu0LkYmw</td>\n      <td>4bEjOyTaDG24SY5TxsaUNQ</td>\n      <td>Mon Ami Gabi</td>\n      <td>Breakfast &amp; Brunch</td>\n      <td>Las Vegas</td>\n      <td>NV</td>\n      <td>36.112952</td>\n      <td>-115.172589</td>\n      <td>4.0</td>\n    </tr>\n    <tr>\n      <th>813</th>\n      <td>2014-07-14</td>\n      <td>My family and I came here while they were in f...</td>\n      <td>XDxUN0fFwbJr4tTQgeLbKQ</td>\n      <td>4bEjOyTaDG24SY5TxsaUNQ</td>\n      <td>Mon Ami Gabi</td>\n      <td>Breakfast &amp; Brunch</td>\n      <td>Las Vegas</td>\n      <td>NV</td>\n      <td>36.112952</td>\n      <td>-115.172589</td>\n      <td>4.0</td>\n    </tr>\n    <tr>\n      <th>1121</th>\n      <td>2014-07-12</td>\n      <td>The ambiance a incredible in the front window ...</td>\n      <td>yrRvVqjJlPmTuQsZ7hNV8g</td>\n      <td>4bEjOyTaDG24SY5TxsaUNQ</td>\n      <td>Mon Ami Gabi</td>\n      <td>Breakfast &amp; Brunch</td>\n      <td>Las Vegas</td>\n      <td>NV</td>\n      <td>36.112952</td>\n      <td>-115.172589</td>\n      <td>4.0</td>\n    </tr>\n    <tr>\n      <th>1641</th>\n      <td>2014-07-11</td>\n      <td>What a fantastic restaurant!!! I recently stay...</td>\n      <td>4r6sGV31mtEpP87idj9EYA</td>\n      <td>4bEjOyTaDG24SY5TxsaUNQ</td>\n      <td>Mon Ami Gabi</td>\n      <td>Breakfast &amp; Brunch</td>\n      <td>Las Vegas</td>\n      <td>NV</td>\n      <td>36.112952</td>\n      <td>-115.172589</td>\n      <td>4.0</td>\n    </tr>\n    <tr>\n      <th>...</th>\n      <td>...</td>\n      <td>...</td>\n      <td>...</td>\n      <td>...</td>\n      <td>...</td>\n      <td>...</td>\n      <td>...</td>\n      <td>...</td>\n      <td>...</td>\n      <td>...</td>\n      <td>...</td>\n    </tr>\n    <tr>\n      <th>226000</th>\n      <td>2007-04-03</td>\n      <td>LUNCH - Mon Ami Gabi has pretty tasty food acc...</td>\n      <td>QKznf6dT3owHD1LUDxXU7Q</td>\n      <td>4bEjOyTaDG24SY5TxsaUNQ</td>\n      <td>Mon Ami Gabi</td>\n      <td>Breakfast &amp; Brunch</td>\n      <td>Las Vegas</td>\n      <td>NV</td>\n      <td>36.112952</td>\n      <td>-115.172589</td>\n      <td>4.0</td>\n    </tr>\n    <tr>\n      <th>226757</th>\n      <td>2006-12-18</td>\n      <td>amazing french restaurant in the paris hotel. ...</td>\n      <td>RlppHxlxAAuznZLk05STWw</td>\n      <td>4bEjOyTaDG24SY5TxsaUNQ</td>\n      <td>Mon Ami Gabi</td>\n      <td>Breakfast &amp; Brunch</td>\n      <td>Las Vegas</td>\n      <td>NV</td>\n      <td>36.112952</td>\n      <td>-115.172589</td>\n      <td>4.0</td>\n    </tr>\n    <tr>\n      <th>226957</th>\n      <td>2006-10-01</td>\n      <td>Slightly noisy but great food in Vegas at a ve...</td>\n      <td>36CYHxqSj5iOzTiSFqw3yw</td>\n      <td>4bEjOyTaDG24SY5TxsaUNQ</td>\n      <td>Mon Ami Gabi</td>\n      <td>Breakfast &amp; Brunch</td>\n      <td>Las Vegas</td>\n      <td>NV</td>\n      <td>36.112952</td>\n      <td>-115.172589</td>\n      <td>4.0</td>\n    </tr>\n    <tr>\n      <th>226988</th>\n      <td>2006-09-18</td>\n      <td>This is a great place for brunch -- we ended u...</td>\n      <td>ytcTacpqKG3ZeEzV0LfWkw</td>\n      <td>4bEjOyTaDG24SY5TxsaUNQ</td>\n      <td>Mon Ami Gabi</td>\n      <td>Breakfast &amp; Brunch</td>\n      <td>Las Vegas</td>\n      <td>NV</td>\n      <td>36.112952</td>\n      <td>-115.172589</td>\n      <td>4.0</td>\n    </tr>\n    <tr>\n      <th>227556</th>\n      <td>2005-06-23</td>\n      <td>Excellent food, great atmosphere, a bit noisy....</td>\n      <td>LAOHN2Z6INbwuGa3fx9UTw</td>\n      <td>4bEjOyTaDG24SY5TxsaUNQ</td>\n      <td>Mon Ami Gabi</td>\n      <td>Breakfast &amp; Brunch</td>\n      <td>Las Vegas</td>\n      <td>NV</td>\n      <td>36.112952</td>\n      <td>-115.172589</td>\n      <td>4.0</td>\n    </tr>\n  </tbody>\n</table>\n<p>856 rows × 11 columns</p>\n</div>"
     },
     "metadata": {},
     "execution_count": 27
    }
   ],
   "source": [
    "df.loc[df['Business_ID'] == '4bEjOyTaDG24SY5TxsaUNQ']"
   ]
  }
 ]
}