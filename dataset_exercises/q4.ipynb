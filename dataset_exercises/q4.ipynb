{
 "metadata": {
  "language_info": {
   "codemirror_mode": {
    "name": "ipython",
    "version": 3
   },
   "file_extension": ".py",
   "mimetype": "text/x-python",
   "name": "python",
   "nbconvert_exporter": "python",
   "pygments_lexer": "ipython3",
   "version": "3.9.0-final"
  },
  "orig_nbformat": 2,
  "kernelspec": {
   "name": "python3",
   "display_name": "Python 3"
  }
 },
 "nbformat": 4,
 "nbformat_minor": 2,
 "cells": [
  {
   "cell_type": "code",
   "execution_count": 1,
   "metadata": {},
   "outputs": [],
   "source": [
    "import pandas as pd"
   ]
  },
  {
   "cell_type": "code",
   "execution_count": 2,
   "metadata": {},
   "outputs": [],
   "source": [
    "df = pd.read_csv('Section_3.csv')"
   ]
  },
  {
   "cell_type": "code",
   "execution_count": 3,
   "metadata": {},
   "outputs": [],
   "source": [
    "hotel_and_t = df['Business_Category'] == 'Hotels & Travel'"
   ]
  },
  {
   "cell_type": "code",
   "execution_count": 10,
   "metadata": {},
   "outputs": [],
   "source": [
    "count = df[hotel_and_t].City.value_counts()"
   ]
  },
  {
   "cell_type": "code",
   "execution_count": 11,
   "metadata": {},
   "outputs": [],
   "source": [
    "per = df[hotel_and_t].City.value_counts(normalize=True)"
   ]
  },
  {
   "cell_type": "code",
   "execution_count": 13,
   "metadata": {},
   "outputs": [],
   "source": [
    "per100 = df[hotel_and_t].City.value_counts(normalize=True).mul(100).round(1).astype(str) + '%'"
   ]
  },
  {
   "cell_type": "code",
   "execution_count": 14,
   "metadata": {},
   "outputs": [
    {
     "output_type": "execute_result",
     "data": {
      "text/plain": [
       "                   counts       per per_100\n",
       "Las Vegas           10245  0.776430   77.6%\n",
       "Phoenix              1188  0.090034    9.0%\n",
       "Scottsdale            633  0.047973    4.8%\n",
       "Henderson             202  0.015309    1.5%\n",
       "Tempe                 177  0.013414    1.3%\n",
       "Edinburgh             174  0.013187    1.3%\n",
       "Madison               165  0.012505    1.3%\n",
       "Mesa                   99  0.007503    0.8%\n",
       "Chandler               74  0.005608    0.6%\n",
       "Glendale               34  0.002577    0.3%\n",
       "Paradise Valley        32  0.002425    0.2%\n",
       "Middleton              19  0.001440    0.1%\n",
       "Goldfield              14  0.001061    0.1%\n",
       "Surprise               14  0.001061    0.1%\n",
       "Peoria                 13  0.000985    0.1%\n",
       "Goodyear               12  0.000909    0.1%\n",
       "Laveen                 10  0.000758    0.1%\n",
       "Casa Grande             9  0.000682    0.1%\n",
       "Gilbert                 8  0.000606    0.1%\n",
       "Cambridge               7  0.000531    0.1%\n",
       "Fountain Hills          7  0.000531    0.1%\n",
       "Wickenburg              7  0.000531    0.1%\n",
       "Gila Bend               6  0.000455    0.0%\n",
       "Enterprise              6  0.000455    0.0%\n",
       "Waterloo                5  0.000379    0.0%\n",
       "Avondale                4  0.000303    0.0%\n",
       "Kitchener               4  0.000303    0.0%\n",
       "Anthem                  4  0.000303    0.0%\n",
       "Verona                  3  0.000227    0.0%\n",
       "Inverkeithing           2  0.000152    0.0%\n",
       "Buckeye                 2  0.000152    0.0%\n",
       "Florence                2  0.000152    0.0%\n",
       "South Queensferry       2  0.000152    0.0%\n",
       "Coolidge                2  0.000152    0.0%\n",
       "Apache Junction         2  0.000152    0.0%\n",
       "Tolleson                2  0.000152    0.0%\n",
       "Mc Farland              1  0.000076    0.0%\n",
       "Heidelberg              1  0.000076    0.0%\n",
       "Clark County            1  0.000076    0.0%\n",
       "Youngtown               1  0.000076    0.0%\n",
       "Lasswade                1  0.000076    0.0%\n",
       "Deforest                1  0.000076    0.0%"
      ],
      "text/html": "<div>\n<style scoped>\n    .dataframe tbody tr th:only-of-type {\n        vertical-align: middle;\n    }\n\n    .dataframe tbody tr th {\n        vertical-align: top;\n    }\n\n    .dataframe thead th {\n        text-align: right;\n    }\n</style>\n<table border=\"1\" class=\"dataframe\">\n  <thead>\n    <tr style=\"text-align: right;\">\n      <th></th>\n      <th>counts</th>\n      <th>per</th>\n      <th>per_100</th>\n    </tr>\n  </thead>\n  <tbody>\n    <tr>\n      <th>Las Vegas</th>\n      <td>10245</td>\n      <td>0.776430</td>\n      <td>77.6%</td>\n    </tr>\n    <tr>\n      <th>Phoenix</th>\n      <td>1188</td>\n      <td>0.090034</td>\n      <td>9.0%</td>\n    </tr>\n    <tr>\n      <th>Scottsdale</th>\n      <td>633</td>\n      <td>0.047973</td>\n      <td>4.8%</td>\n    </tr>\n    <tr>\n      <th>Henderson</th>\n      <td>202</td>\n      <td>0.015309</td>\n      <td>1.5%</td>\n    </tr>\n    <tr>\n      <th>Tempe</th>\n      <td>177</td>\n      <td>0.013414</td>\n      <td>1.3%</td>\n    </tr>\n    <tr>\n      <th>Edinburgh</th>\n      <td>174</td>\n      <td>0.013187</td>\n      <td>1.3%</td>\n    </tr>\n    <tr>\n      <th>Madison</th>\n      <td>165</td>\n      <td>0.012505</td>\n      <td>1.3%</td>\n    </tr>\n    <tr>\n      <th>Mesa</th>\n      <td>99</td>\n      <td>0.007503</td>\n      <td>0.8%</td>\n    </tr>\n    <tr>\n      <th>Chandler</th>\n      <td>74</td>\n      <td>0.005608</td>\n      <td>0.6%</td>\n    </tr>\n    <tr>\n      <th>Glendale</th>\n      <td>34</td>\n      <td>0.002577</td>\n      <td>0.3%</td>\n    </tr>\n    <tr>\n      <th>Paradise Valley</th>\n      <td>32</td>\n      <td>0.002425</td>\n      <td>0.2%</td>\n    </tr>\n    <tr>\n      <th>Middleton</th>\n      <td>19</td>\n      <td>0.001440</td>\n      <td>0.1%</td>\n    </tr>\n    <tr>\n      <th>Goldfield</th>\n      <td>14</td>\n      <td>0.001061</td>\n      <td>0.1%</td>\n    </tr>\n    <tr>\n      <th>Surprise</th>\n      <td>14</td>\n      <td>0.001061</td>\n      <td>0.1%</td>\n    </tr>\n    <tr>\n      <th>Peoria</th>\n      <td>13</td>\n      <td>0.000985</td>\n      <td>0.1%</td>\n    </tr>\n    <tr>\n      <th>Goodyear</th>\n      <td>12</td>\n      <td>0.000909</td>\n      <td>0.1%</td>\n    </tr>\n    <tr>\n      <th>Laveen</th>\n      <td>10</td>\n      <td>0.000758</td>\n      <td>0.1%</td>\n    </tr>\n    <tr>\n      <th>Casa Grande</th>\n      <td>9</td>\n      <td>0.000682</td>\n      <td>0.1%</td>\n    </tr>\n    <tr>\n      <th>Gilbert</th>\n      <td>8</td>\n      <td>0.000606</td>\n      <td>0.1%</td>\n    </tr>\n    <tr>\n      <th>Cambridge</th>\n      <td>7</td>\n      <td>0.000531</td>\n      <td>0.1%</td>\n    </tr>\n    <tr>\n      <th>Fountain Hills</th>\n      <td>7</td>\n      <td>0.000531</td>\n      <td>0.1%</td>\n    </tr>\n    <tr>\n      <th>Wickenburg</th>\n      <td>7</td>\n      <td>0.000531</td>\n      <td>0.1%</td>\n    </tr>\n    <tr>\n      <th>Gila Bend</th>\n      <td>6</td>\n      <td>0.000455</td>\n      <td>0.0%</td>\n    </tr>\n    <tr>\n      <th>Enterprise</th>\n      <td>6</td>\n      <td>0.000455</td>\n      <td>0.0%</td>\n    </tr>\n    <tr>\n      <th>Waterloo</th>\n      <td>5</td>\n      <td>0.000379</td>\n      <td>0.0%</td>\n    </tr>\n    <tr>\n      <th>Avondale</th>\n      <td>4</td>\n      <td>0.000303</td>\n      <td>0.0%</td>\n    </tr>\n    <tr>\n      <th>Kitchener</th>\n      <td>4</td>\n      <td>0.000303</td>\n      <td>0.0%</td>\n    </tr>\n    <tr>\n      <th>Anthem</th>\n      <td>4</td>\n      <td>0.000303</td>\n      <td>0.0%</td>\n    </tr>\n    <tr>\n      <th>Verona</th>\n      <td>3</td>\n      <td>0.000227</td>\n      <td>0.0%</td>\n    </tr>\n    <tr>\n      <th>Inverkeithing</th>\n      <td>2</td>\n      <td>0.000152</td>\n      <td>0.0%</td>\n    </tr>\n    <tr>\n      <th>Buckeye</th>\n      <td>2</td>\n      <td>0.000152</td>\n      <td>0.0%</td>\n    </tr>\n    <tr>\n      <th>Florence</th>\n      <td>2</td>\n      <td>0.000152</td>\n      <td>0.0%</td>\n    </tr>\n    <tr>\n      <th>South Queensferry</th>\n      <td>2</td>\n      <td>0.000152</td>\n      <td>0.0%</td>\n    </tr>\n    <tr>\n      <th>Coolidge</th>\n      <td>2</td>\n      <td>0.000152</td>\n      <td>0.0%</td>\n    </tr>\n    <tr>\n      <th>Apache Junction</th>\n      <td>2</td>\n      <td>0.000152</td>\n      <td>0.0%</td>\n    </tr>\n    <tr>\n      <th>Tolleson</th>\n      <td>2</td>\n      <td>0.000152</td>\n      <td>0.0%</td>\n    </tr>\n    <tr>\n      <th>Mc Farland</th>\n      <td>1</td>\n      <td>0.000076</td>\n      <td>0.0%</td>\n    </tr>\n    <tr>\n      <th>Heidelberg</th>\n      <td>1</td>\n      <td>0.000076</td>\n      <td>0.0%</td>\n    </tr>\n    <tr>\n      <th>Clark County</th>\n      <td>1</td>\n      <td>0.000076</td>\n      <td>0.0%</td>\n    </tr>\n    <tr>\n      <th>Youngtown</th>\n      <td>1</td>\n      <td>0.000076</td>\n      <td>0.0%</td>\n    </tr>\n    <tr>\n      <th>Lasswade</th>\n      <td>1</td>\n      <td>0.000076</td>\n      <td>0.0%</td>\n    </tr>\n    <tr>\n      <th>Deforest</th>\n      <td>1</td>\n      <td>0.000076</td>\n      <td>0.0%</td>\n    </tr>\n  </tbody>\n</table>\n</div>"
     },
     "metadata": {},
     "execution_count": 14
    }
   ],
   "source": [
    "pd.DataFrame({'counts': count, 'per': per, 'per_100': per100})"
   ]
  },
  {
   "cell_type": "code",
   "execution_count": null,
   "metadata": {},
   "outputs": [],
   "source": []
  }
 ]
}